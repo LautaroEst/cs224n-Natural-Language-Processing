{
 "cells": [
  {
   "cell_type": "markdown",
   "metadata": {},
   "source": [
    "# Dependency parsing\n",
    "\n",
    "Análsis sintáctico!!!\n",
    "\n",
    "La idea es buscar las \"dependencies\", o sea las estructuras de las frases que modifican a otras estructuras. Con esto, encontramos una organización de la frase.\n",
    "\n",
    "Un algoritmo que funciona muy bien para hacer análisis sintáctico es el de Nivre (2003), que usa máquinas de estado. ESTO HAY QUE ENTENDERLO PORQUE ES IMPORTANTE.\n",
    "\n",
    "Después de este método, lo que se hizo fue usar redes neuronales para obtener el mismo resultado. Los resultados siempre dan mejor cuando se usan word vectors como entradas (o cuando se aprenden). \n",
    "\n",
    "A continuación... assígnemt 3!"
   ]
  },
  {
   "cell_type": "code",
   "execution_count": null,
   "metadata": {},
   "outputs": [],
   "source": []
  }
 ],
 "metadata": {
  "kernelspec": {
   "display_name": "Python 3",
   "language": "python",
   "name": "python3"
  },
  "language_info": {
   "codemirror_mode": {
    "name": "ipython",
    "version": 3
   },
   "file_extension": ".py",
   "mimetype": "text/x-python",
   "name": "python",
   "nbconvert_exporter": "python",
   "pygments_lexer": "ipython3",
   "version": "3.7.3"
  }
 },
 "nbformat": 4,
 "nbformat_minor": 2
}
