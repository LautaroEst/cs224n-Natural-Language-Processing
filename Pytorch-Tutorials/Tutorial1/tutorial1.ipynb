{
 "cells": [
  {
   "cell_type": "code",
   "execution_count": 3,
   "metadata": {},
   "outputs": [
    {
     "name": "stdout",
     "output_type": "stream",
     "text": [
      "The autoreload extension is already loaded. To reload it, use:\n",
      "  %reload_ext autoreload\n"
     ]
    }
   ],
   "source": [
    "import torch\n",
    "import torch.nn as nn\n",
    "\n",
    "%load_ext autoreload\n",
    "%autoreload 2"
   ]
  },
  {
   "cell_type": "markdown",
   "metadata": {},
   "source": [
    "# Tutorial 1\n",
    "\n",
    "Estamos siguiendo el tutorial de [esta](https://pytorch.org/tutorials/intermediate/char_rnn_classification_tutorial.html#) página. \n",
    "\n",
    "El objetivo es clasificar nombres en idioma de origen. Para eso contamos con el dataset de la carpeta `data` en el directorio de raiz.\n",
    "\n",
    "## Paso 1: seteo del dataset"
   ]
  },
  {
   "cell_type": "code",
   "execution_count": 10,
   "metadata": {},
   "outputs": [
    {
     "name": "stdout",
     "output_type": "stream",
     "text": [
      "Category: Korean, Name examples: ['Ahn', 'Baik', 'Bang', 'Byon', 'Cha']\n",
      "Category: Polish, Name examples: ['Adamczak', 'Adamczyk', 'Andrysiak', 'Auttenberg', 'Bartosz']\n",
      "Category: Russian, Name examples: ['Ababko', 'Abaev', 'Abagyan', 'Abaidulin', 'Abaidullin']\n",
      "Category: Italian, Name examples: ['Abandonato', 'Abatangelo', 'Abatantuono', 'Abate', 'Abategiovanni']\n",
      "Category: Irish, Name examples: ['Adam', 'Ahearn', 'Aodh', 'Aodha', 'Aonghuis']\n",
      "Category: Czech, Name examples: ['Abl', 'Adsit', 'Ajdrna', 'Alt', 'Antonowitsch']\n",
      "Category: English, Name examples: ['Abbas', 'Abbey', 'Abbott', 'Abdi', 'Abel']\n",
      "Category: Arabic, Name examples: ['Khoury', 'Nahas', 'Daher', 'Gerges', 'Nazari']\n",
      "Category: French, Name examples: ['Abel', 'Abraham', 'Adam', 'Albert', 'Allard']\n",
      "Category: Vietnamese, Name examples: ['Nguyen', 'Tron', 'Le', 'Pham', 'Huynh']\n",
      "Category: Japanese, Name examples: ['Abe', 'Abukara', 'Adachi', 'Aida', 'Aihara']\n",
      "Category: German, Name examples: ['Abbing', 'Abel', 'Abeln', 'Abt', 'Achilles']\n",
      "Category: Spanish, Name examples: ['Abana', 'Abano', 'Abarca', 'Abaroa', 'Abascal']\n",
      "Category: Chinese, Name examples: ['Ang', 'AuYong', 'Bai', 'Ban', 'Bao']\n",
      "Category: Dutch, Name examples: ['Aalsburg', 'Aalst', 'Aarle', 'Achteren', 'Achthoven']\n",
      "Category: Scottish, Name examples: ['Smith', 'Brown', 'Wilson', 'Campbell', 'Stewart']\n",
      "Category: Portuguese, Name examples: ['Abreu', 'Albuquerque', 'Almeida', 'Alves', 'Araujo']\n",
      "Category: Greek, Name examples: ['Adamidis', 'Adamou', 'Agelakos', 'Akrivopoulos', 'Alexandropoulos']\n"
     ]
    }
   ],
   "source": [
    "from __future__ import unicode_literals, print_function, division\n",
    "from io import open\n",
    "import glob\n",
    "import os\n",
    "import unicodedata\n",
    "import string\n",
    "\n",
    "# Archivos de los que se disponen:\n",
    "def findFiles(path): \n",
    "    return glob.glob(path)\n",
    "\n",
    "# Turn a Unicode string to plain ASCII\n",
    "def unicodeToAscii(s):\n",
    "    all_letters = string.ascii_letters + \" .,;'\"\n",
    "    n_letters = len(all_letters)\n",
    "    return ''.join(\n",
    "        c for c in unicodedata.normalize('NFD', s)\n",
    "        if unicodedata.category(c) != 'Mn'\n",
    "        and c in all_letters\n",
    "    )\n",
    "\n",
    "# Read a file and split into lines\n",
    "def readLines(filename):\n",
    "    lines = open(filename, encoding='utf-8').read().strip().split('\\n')\n",
    "    return [unicodeToAscii(line) for line in lines]\n",
    "\n",
    "# Build the category_lines dictionary, a list of names per language\n",
    "def GetCategoryDict():\n",
    "    category_lines = {}\n",
    "    all_categories = []\n",
    "    for filename in findFiles('data/names/*.txt'):\n",
    "        category = os.path.splitext(os.path.basename(filename))[0]\n",
    "        all_categories.append(category)\n",
    "        lines = readLines(filename)\n",
    "        category_lines[category] = lines\n",
    "    n_categories = len(all_categories)\n",
    "    return category_lines\n",
    "\n",
    "category_lines = GetCategoryDict()\n",
    "for category in category_lines:\n",
    "    print('Category: %s, Name examples: %s' % (category, category_lines[category][:5]))"
   ]
  },
  {
   "cell_type": "code",
   "execution_count": null,
   "metadata": {},
   "outputs": [],
   "source": []
  }
 ],
 "metadata": {
  "kernelspec": {
   "display_name": "Python 3",
   "language": "python",
   "name": "python3"
  },
  "language_info": {
   "codemirror_mode": {
    "name": "ipython",
    "version": 3
   },
   "file_extension": ".py",
   "mimetype": "text/x-python",
   "name": "python",
   "nbconvert_exporter": "python",
   "pygments_lexer": "ipython3",
   "version": "3.7.3"
  }
 },
 "nbformat": 4,
 "nbformat_minor": 2
}
