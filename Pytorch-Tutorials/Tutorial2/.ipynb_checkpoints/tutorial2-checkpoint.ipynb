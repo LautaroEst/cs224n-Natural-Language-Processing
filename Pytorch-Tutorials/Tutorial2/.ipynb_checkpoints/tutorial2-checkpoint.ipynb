{
 "cells": [
  {
   "cell_type": "markdown",
   "metadata": {},
   "source": [
    "# Tutorial 2\n",
    "\n",
    "Estamos siguiendo el tutorial de [este](https://pytorch.org/tutorials/beginner/text_sentiment_ngrams_tutorial.html) link. La idea es clasificar un texto de una noticia según una categoría (deportes, mundo, etc.) y eso lo hacen con torchtext en el tutorial. \n",
    "\n",
    "Se usa un dataset que proviene del módulo `torchtext` y se hace la clasificación con `nn.EmbeddingBag` que no sé muy bien qué es pero estaría bueno saberlo. "
   ]
  }
 ],
 "metadata": {
  "kernelspec": {
   "display_name": "Python 3",
   "language": "python",
   "name": "python3"
  },
  "language_info": {
   "codemirror_mode": {
    "name": "ipython",
    "version": 3
   },
   "file_extension": ".py",
   "mimetype": "text/x-python",
   "name": "python",
   "nbconvert_exporter": "python",
   "pygments_lexer": "ipython3",
   "version": "3.7.3"
  }
 },
 "nbformat": 4,
 "nbformat_minor": 2
}
