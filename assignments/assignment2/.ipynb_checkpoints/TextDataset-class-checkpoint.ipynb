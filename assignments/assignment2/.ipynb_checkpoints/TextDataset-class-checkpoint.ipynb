{
 "cells": [
  {
   "cell_type": "code",
   "execution_count": null,
   "metadata": {},
   "outputs": [],
   "source": [
    "class TextDataset_v1(Dataset):\n",
    "    \n",
    "    def __init__(self, root_dir):\n",
    "        self.root_dir = root_dir\n",
    "        # Abrir el texto y calcular el tamaño y el vocabulario en un solo loop\n",
    "        self.size = None # tamaño del dataset (NO del vocabulario)\n",
    "        self.words = [] # lista del vocabulario (cada item es un string)\n",
    "        # Cerrar el archivo\n",
    "        \n",
    "    def __len__(self):\n",
    "        return self.size\n",
    "    \n",
    "    def __getitem__(self, index):\n",
    "        # Abrir el archivo y obtener la palabra y su contexto a partir de index.\n",
    "        # Devolver el índice de la lista self.words de la palabra y los ínidices\n",
    "        # del contexto. \n",
    "        # Cerrar el archivo\n",
    "        \n",
    "        \n",
    "class TextDataset_v2(Dataset):\n",
    "    \n",
    "    def __init__(self, root_dir):\n",
    "        # abrir el archivo y obtener el texto\n",
    "        self.text = ' ' # texto completo\n",
    "        # a partir del texto obtener el tamaño del dataset y el \n",
    "        # vocabulario en una lista.\n",
    "        self.size = None # tamaño del dataset (NO del vocabulario)\n",
    "        self.words = [] # lista del vocabulario (cada item es un string)\n",
    "        \n",
    "    def __len__(self):\n",
    "        return self.size\n",
    "    \n",
    "    def __getitem__(self, index):\n",
    "        # obtener la palabra y su contexto a partir de index desde el texto\n",
    "        # Devolver el índice de la lista self.words de la palabra y los ínidices\n",
    "        # del contexto. "
   ]
  },
  {
   "cell_type": "code",
   "execution_count": null,
   "metadata": {},
   "outputs": [],
   "source": []
  }
 ],
 "metadata": {
  "kernelspec": {
   "display_name": "Python 3",
   "language": "python",
   "name": "python3"
  },
  "language_info": {
   "codemirror_mode": {
    "name": "ipython",
    "version": 3
   },
   "file_extension": ".py",
   "mimetype": "text/x-python",
   "name": "python",
   "nbconvert_exporter": "python",
   "pygments_lexer": "ipython3",
   "version": "3.7.3"
  }
 },
 "nbformat": 4,
 "nbformat_minor": 2
}
