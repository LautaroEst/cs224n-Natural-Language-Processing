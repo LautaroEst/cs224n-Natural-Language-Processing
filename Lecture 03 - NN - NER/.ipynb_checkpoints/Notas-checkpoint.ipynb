{
 "cells": [
  {
   "cell_type": "markdown",
   "metadata": {},
   "source": [
    "# Neural Networks\n",
    "\n",
    "Okey, lo que dice Manning es que no tiene sentido usar un layer lineal a la entrada de la red si usás un encoding one-hot. Directamente usás una *lookup table* de embeddings y listo.\n",
    "\n",
    "Para calcular gradientes se usa la convención de la forma, dado que en general se quiere actualizar los parámetros con el gradiente.\n",
    "\n",
    "En esta lecture también se dijo, a modo de introducción para redes neuronales, lo que es la tarea de *Named Entity Recognition* (NER). "
   ]
  }
 ],
 "metadata": {
  "kernelspec": {
   "display_name": "Python 3",
   "language": "python",
   "name": "python3"
  },
  "language_info": {
   "codemirror_mode": {
    "name": "ipython",
    "version": 3
   },
   "file_extension": ".py",
   "mimetype": "text/x-python",
   "name": "python",
   "nbconvert_exporter": "python",
   "pygments_lexer": "ipython3",
   "version": "3.7.3"
  }
 },
 "nbformat": 4,
 "nbformat_minor": 2
}
